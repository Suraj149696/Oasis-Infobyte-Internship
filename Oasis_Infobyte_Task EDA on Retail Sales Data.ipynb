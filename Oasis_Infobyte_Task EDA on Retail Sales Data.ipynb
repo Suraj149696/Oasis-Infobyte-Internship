{
 "cells": [
  {
   "cell_type": "markdown",
   "metadata": {},
   "source": [
    "## Task 1 :Exploratory Data Analysis (EDA) on Retail Sales Data"
   ]
  },
  {
   "cell_type": "markdown",
   "metadata": {},
   "source": [
    " "
   ]
  },
  {
   "cell_type": "markdown",
   "metadata": {},
   "source": [
    "## Import Libraries"
   ]
  },
  {
   "cell_type": "code",
   "execution_count": 1,
   "metadata": {},
   "outputs": [],
   "source": [
    "import numpy as np\n",
    "import pandas as pd\n",
    "import matplotlib.pyplot as plt\n",
    "import math as math\n",
    "import seaborn as sns"
   ]
  },
  {
   "cell_type": "markdown",
   "metadata": {},
   "source": [
    "## Loading data from CSV\n",
    "\n",
    "Load data from the given CSV file."
   ]
  },
  {
   "cell_type": "code",
   "execution_count": 2,
   "metadata": {},
   "outputs": [],
   "source": [
    "data = pd.read_csv('retail.csv')"
   ]
  },
  {
   "cell_type": "markdown",
   "metadata": {},
   "source": [
    "************************************************************************************************************\n",
    "## Know your data\n",
    "\n",
    "Let's chech some sample records to have a feel of data you are going to work with"
   ]
  },
  {
   "cell_type": "code",
   "execution_count": 3,
   "metadata": {},
   "outputs": [
    {
     "data": {
      "text/html": [
       "<div>\n",
       "<style scoped>\n",
       "    .dataframe tbody tr th:only-of-type {\n",
       "        vertical-align: middle;\n",
       "    }\n",
       "\n",
       "    .dataframe tbody tr th {\n",
       "        vertical-align: top;\n",
       "    }\n",
       "\n",
       "    .dataframe thead th {\n",
       "        text-align: right;\n",
       "    }\n",
       "</style>\n",
       "<table border=\"1\" class=\"dataframe\">\n",
       "  <thead>\n",
       "    <tr style=\"text-align: right;\">\n",
       "      <th></th>\n",
       "      <th>OrderNumber</th>\n",
       "      <th>ProductName</th>\n",
       "      <th>Color</th>\n",
       "      <th>Category</th>\n",
       "      <th>Subcategory</th>\n",
       "      <th>ListPrice</th>\n",
       "      <th>Orderdate</th>\n",
       "      <th>Duedate</th>\n",
       "      <th>Shipdate</th>\n",
       "      <th>PromotionName</th>\n",
       "      <th>SalesRegion</th>\n",
       "      <th>OrderQuantity</th>\n",
       "      <th>UnitPrice</th>\n",
       "      <th>SalesAmount</th>\n",
       "      <th>DiscountAmount</th>\n",
       "      <th>TaxAmount</th>\n",
       "      <th>Freight</th>\n",
       "    </tr>\n",
       "  </thead>\n",
       "  <tbody>\n",
       "    <tr>\n",
       "      <th>0</th>\n",
       "      <td>SO43843</td>\n",
       "      <td>Mountain-100 Silver, 48</td>\n",
       "      <td>Silver</td>\n",
       "      <td>Bikes</td>\n",
       "      <td>Mountain Bikes</td>\n",
       "      <td>3399.9900</td>\n",
       "      <td>1/29/2011</td>\n",
       "      <td>2/10/2011</td>\n",
       "      <td>2/5/2011</td>\n",
       "      <td>No Discount</td>\n",
       "      <td>Central</td>\n",
       "      <td>2</td>\n",
       "      <td>2039.9940</td>\n",
       "      <td>4079.9880</td>\n",
       "      <td>0.0</td>\n",
       "      <td>326.3990</td>\n",
       "      <td>101.9997</td>\n",
       "    </tr>\n",
       "    <tr>\n",
       "      <th>1</th>\n",
       "      <td>SO43843</td>\n",
       "      <td>Mountain-100 Black, 48</td>\n",
       "      <td>Black</td>\n",
       "      <td>Bikes</td>\n",
       "      <td>Mountain Bikes</td>\n",
       "      <td>3374.9900</td>\n",
       "      <td>1/29/2011</td>\n",
       "      <td>2/10/2011</td>\n",
       "      <td>2/5/2011</td>\n",
       "      <td>No Discount</td>\n",
       "      <td>Central</td>\n",
       "      <td>2</td>\n",
       "      <td>2024.9940</td>\n",
       "      <td>4049.9880</td>\n",
       "      <td>0.0</td>\n",
       "      <td>323.9990</td>\n",
       "      <td>101.2497</td>\n",
       "    </tr>\n",
       "    <tr>\n",
       "      <th>2</th>\n",
       "      <td>SO43843</td>\n",
       "      <td>HL Mountain Frame - Silver, 46</td>\n",
       "      <td>Silver</td>\n",
       "      <td>Components</td>\n",
       "      <td>Mountain Frames</td>\n",
       "      <td>1204.3248</td>\n",
       "      <td>1/29/2011</td>\n",
       "      <td>2/10/2011</td>\n",
       "      <td>2/5/2011</td>\n",
       "      <td>No Discount</td>\n",
       "      <td>Central</td>\n",
       "      <td>2</td>\n",
       "      <td>722.5949</td>\n",
       "      <td>1445.1898</td>\n",
       "      <td>0.0</td>\n",
       "      <td>115.6152</td>\n",
       "      <td>36.1297</td>\n",
       "    </tr>\n",
       "    <tr>\n",
       "      <th>3</th>\n",
       "      <td>SO43843</td>\n",
       "      <td>Mountain-100 Black, 44</td>\n",
       "      <td>Black</td>\n",
       "      <td>Bikes</td>\n",
       "      <td>Mountain Bikes</td>\n",
       "      <td>NaN</td>\n",
       "      <td>1/29/2011</td>\n",
       "      <td>2/10/2011</td>\n",
       "      <td>2/5/2011</td>\n",
       "      <td>No Discount</td>\n",
       "      <td>Central</td>\n",
       "      <td>5</td>\n",
       "      <td>2024.9940</td>\n",
       "      <td>10124.9700</td>\n",
       "      <td>0.0</td>\n",
       "      <td>809.9976</td>\n",
       "      <td>253.1243</td>\n",
       "    </tr>\n",
       "    <tr>\n",
       "      <th>4</th>\n",
       "      <td>SO43843</td>\n",
       "      <td>HL Mountain Frame - Silver, 38</td>\n",
       "      <td>Silver</td>\n",
       "      <td>Components</td>\n",
       "      <td>Mountain Frames</td>\n",
       "      <td>1204.3248</td>\n",
       "      <td>1/29/2011</td>\n",
       "      <td>2/10/2011</td>\n",
       "      <td>2/5/2011</td>\n",
       "      <td>No Discount</td>\n",
       "      <td>Central</td>\n",
       "      <td>2</td>\n",
       "      <td>722.5949</td>\n",
       "      <td>1445.1898</td>\n",
       "      <td>0.0</td>\n",
       "      <td>115.6152</td>\n",
       "      <td>36.1297</td>\n",
       "    </tr>\n",
       "    <tr>\n",
       "      <th>5</th>\n",
       "      <td>SO43843</td>\n",
       "      <td>HL Mountain Frame - Silver, 48</td>\n",
       "      <td>Silver</td>\n",
       "      <td>Components</td>\n",
       "      <td>Mountain Frames</td>\n",
       "      <td>1364.5000</td>\n",
       "      <td>1/29/2011</td>\n",
       "      <td>2/10/2011</td>\n",
       "      <td>2/5/2011</td>\n",
       "      <td>No Discount</td>\n",
       "      <td>Central</td>\n",
       "      <td>1</td>\n",
       "      <td>818.7000</td>\n",
       "      <td>818.7000</td>\n",
       "      <td>0.0</td>\n",
       "      <td>65.4960</td>\n",
       "      <td>20.4675</td>\n",
       "    </tr>\n",
       "    <tr>\n",
       "      <th>6</th>\n",
       "      <td>SO43843</td>\n",
       "      <td>HL Mountain Frame - Black, 48</td>\n",
       "      <td>Black</td>\n",
       "      <td>Components</td>\n",
       "      <td>Mountain Frames</td>\n",
       "      <td>1349.6000</td>\n",
       "      <td>1/29/2011</td>\n",
       "      <td>2/10/2011</td>\n",
       "      <td>2/5/2011</td>\n",
       "      <td>No Discount</td>\n",
       "      <td>Central</td>\n",
       "      <td>Nan</td>\n",
       "      <td>809.7600</td>\n",
       "      <td>809.7600</td>\n",
       "      <td>0.0</td>\n",
       "      <td>64.7808</td>\n",
       "      <td>20.2440</td>\n",
       "    </tr>\n",
       "    <tr>\n",
       "      <th>7</th>\n",
       "      <td>SO43843</td>\n",
       "      <td>Mountain-100 Silver, 38</td>\n",
       "      <td>Silver</td>\n",
       "      <td>Bikes</td>\n",
       "      <td>Mountain Bikes</td>\n",
       "      <td>3399.9900</td>\n",
       "      <td>1/29/2011</td>\n",
       "      <td>2/10/2011</td>\n",
       "      <td>2/5/2011</td>\n",
       "      <td>No Discount</td>\n",
       "      <td>Central</td>\n",
       "      <td>2</td>\n",
       "      <td>2039.9940</td>\n",
       "      <td>4079.9880</td>\n",
       "      <td>0.0</td>\n",
       "      <td>326.3990</td>\n",
       "      <td>101.9997</td>\n",
       "    </tr>\n",
       "    <tr>\n",
       "      <th>8</th>\n",
       "      <td>SO43843</td>\n",
       "      <td>Mountain Bike Socks, M</td>\n",
       "      <td>White</td>\n",
       "      <td>Clothing</td>\n",
       "      <td>Socks</td>\n",
       "      <td>9.5000</td>\n",
       "      <td>1/29/2011</td>\n",
       "      <td>2/10/2011</td>\n",
       "      <td>2/5/2011</td>\n",
       "      <td>No Discount</td>\n",
       "      <td>Central</td>\n",
       "      <td>2</td>\n",
       "      <td>5.7000</td>\n",
       "      <td>11.4000</td>\n",
       "      <td>0.0</td>\n",
       "      <td>0.9120</td>\n",
       "      <td>0.2850</td>\n",
       "    </tr>\n",
       "    <tr>\n",
       "      <th>9</th>\n",
       "      <td>SO43843</td>\n",
       "      <td>Mountain-100 Black, 42</td>\n",
       "      <td>Black</td>\n",
       "      <td>Bikes</td>\n",
       "      <td>Mountain Bikes</td>\n",
       "      <td>3374.9900</td>\n",
       "      <td>1/29/2011</td>\n",
       "      <td>2/10/2011</td>\n",
       "      <td>2/5/2011</td>\n",
       "      <td>No Discount</td>\n",
       "      <td>Central</td>\n",
       "      <td>3</td>\n",
       "      <td>2024.9940</td>\n",
       "      <td>6074.9820</td>\n",
       "      <td>0.0</td>\n",
       "      <td>485.9986</td>\n",
       "      <td>151.8746</td>\n",
       "    </tr>\n",
       "  </tbody>\n",
       "</table>\n",
       "</div>"
      ],
      "text/plain": [
       "  OrderNumber                     ProductName   Color    Category  \\\n",
       "0     SO43843         Mountain-100 Silver, 48  Silver       Bikes   \n",
       "1     SO43843          Mountain-100 Black, 48   Black       Bikes   \n",
       "2     SO43843  HL Mountain Frame - Silver, 46  Silver  Components   \n",
       "3     SO43843          Mountain-100 Black, 44   Black       Bikes   \n",
       "4     SO43843  HL Mountain Frame - Silver, 38  Silver  Components   \n",
       "5     SO43843  HL Mountain Frame - Silver, 48  Silver  Components   \n",
       "6     SO43843   HL Mountain Frame - Black, 48   Black  Components   \n",
       "7     SO43843         Mountain-100 Silver, 38  Silver       Bikes   \n",
       "8     SO43843          Mountain Bike Socks, M   White    Clothing   \n",
       "9     SO43843          Mountain-100 Black, 42   Black       Bikes   \n",
       "\n",
       "       Subcategory  ListPrice  Orderdate    Duedate  Shipdate PromotionName  \\\n",
       "0   Mountain Bikes  3399.9900  1/29/2011  2/10/2011  2/5/2011   No Discount   \n",
       "1   Mountain Bikes  3374.9900  1/29/2011  2/10/2011  2/5/2011   No Discount   \n",
       "2  Mountain Frames  1204.3248  1/29/2011  2/10/2011  2/5/2011   No Discount   \n",
       "3   Mountain Bikes        NaN  1/29/2011  2/10/2011  2/5/2011   No Discount   \n",
       "4  Mountain Frames  1204.3248  1/29/2011  2/10/2011  2/5/2011   No Discount   \n",
       "5  Mountain Frames  1364.5000  1/29/2011  2/10/2011  2/5/2011   No Discount   \n",
       "6  Mountain Frames  1349.6000  1/29/2011  2/10/2011  2/5/2011   No Discount   \n",
       "7   Mountain Bikes  3399.9900  1/29/2011  2/10/2011  2/5/2011   No Discount   \n",
       "8            Socks     9.5000  1/29/2011  2/10/2011  2/5/2011   No Discount   \n",
       "9   Mountain Bikes  3374.9900  1/29/2011  2/10/2011  2/5/2011   No Discount   \n",
       "\n",
       "  SalesRegion OrderQuantity  UnitPrice  SalesAmount  DiscountAmount  \\\n",
       "0     Central             2  2039.9940    4079.9880             0.0   \n",
       "1     Central             2  2024.9940    4049.9880             0.0   \n",
       "2     Central             2   722.5949    1445.1898             0.0   \n",
       "3     Central             5  2024.9940   10124.9700             0.0   \n",
       "4     Central             2   722.5949    1445.1898             0.0   \n",
       "5     Central             1   818.7000     818.7000             0.0   \n",
       "6     Central           Nan   809.7600     809.7600             0.0   \n",
       "7     Central             2  2039.9940    4079.9880             0.0   \n",
       "8     Central             2     5.7000      11.4000             0.0   \n",
       "9     Central             3  2024.9940    6074.9820             0.0   \n",
       "\n",
       "   TaxAmount   Freight  \n",
       "0   326.3990  101.9997  \n",
       "1   323.9990  101.2497  \n",
       "2   115.6152   36.1297  \n",
       "3   809.9976  253.1243  \n",
       "4   115.6152   36.1297  \n",
       "5    65.4960   20.4675  \n",
       "6    64.7808   20.2440  \n",
       "7   326.3990  101.9997  \n",
       "8     0.9120    0.2850  \n",
       "9   485.9986  151.8746  "
      ]
     },
     "execution_count": 3,
     "metadata": {},
     "output_type": "execute_result"
    }
   ],
   "source": [
    "#showing first 10 rows\n",
    "data.head(10)"
   ]
  },
  {
   "cell_type": "markdown",
   "metadata": {},
   "source": [
    "Check the number of rows and columns that your dataset has:"
   ]
  },
  {
   "cell_type": "code",
   "execution_count": 4,
   "metadata": {},
   "outputs": [
    {
     "data": {
      "text/plain": [
       "(32040, 17)"
      ]
     },
     "execution_count": 4,
     "metadata": {},
     "output_type": "execute_result"
    }
   ],
   "source": [
    "#gives (num rows, num col)\n",
    "data.shape"
   ]
  },
  {
   "cell_type": "markdown",
   "metadata": {},
   "source": [
    "Check datatype of each attribute"
   ]
  },
  {
   "cell_type": "code",
   "execution_count": 5,
   "metadata": {},
   "outputs": [
    {
     "data": {
      "text/plain": [
       "OrderNumber        object\n",
       "ProductName        object\n",
       "Color              object\n",
       "Category           object\n",
       "Subcategory        object\n",
       "ListPrice         float64\n",
       "Orderdate          object\n",
       "Duedate            object\n",
       "Shipdate           object\n",
       "PromotionName      object\n",
       "SalesRegion        object\n",
       "OrderQuantity      object\n",
       "UnitPrice         float64\n",
       "SalesAmount       float64\n",
       "DiscountAmount    float64\n",
       "TaxAmount         float64\n",
       "Freight           float64\n",
       "dtype: object"
      ]
     },
     "execution_count": 5,
     "metadata": {},
     "output_type": "execute_result"
    }
   ],
   "source": [
    "data.dtypes"
   ]
  },
  {
   "cell_type": "markdown",
   "metadata": {},
   "source": [
    "Set the data types correctly..."
   ]
  },
  {
   "cell_type": "code",
   "execution_count": 6,
   "metadata": {},
   "outputs": [
    {
     "data": {
      "text/plain": [
       "OrderNumber               object\n",
       "ProductName               object\n",
       "Color                     object\n",
       "Category                  object\n",
       "Subcategory               object\n",
       "ListPrice                float64\n",
       "Orderdate         datetime64[ns]\n",
       "Duedate           datetime64[ns]\n",
       "Shipdate          datetime64[ns]\n",
       "PromotionName             object\n",
       "SalesRegion               object\n",
       "OrderQuantity              Int64\n",
       "UnitPrice                float64\n",
       "SalesAmount              float64\n",
       "DiscountAmount           float64\n",
       "TaxAmount                float64\n",
       "Freight                  float64\n",
       "dtype: object"
      ]
     },
     "execution_count": 6,
     "metadata": {},
     "output_type": "execute_result"
    }
   ],
   "source": [
    "data[[\"Orderdate\", \"Duedate\", \"Shipdate\"]] = data[[\"Orderdate\", \"Duedate\", \"Shipdate\"]].apply(pd.to_datetime)\n",
    "data[[\"OrderQuantity\"]] = data[\"OrderQuantity\"].astype(float).astype('Int64')\n",
    "data.dtypes"
   ]
  },
  {
   "cell_type": "markdown",
   "metadata": {},
   "source": [
    "How many distinct values does each column have?"
   ]
  },
  {
   "cell_type": "code",
   "execution_count": 7,
   "metadata": {},
   "outputs": [
    {
     "data": {
      "text/plain": [
       "OrderNumber       1871\n",
       "ProductName        250\n",
       "Color                8\n",
       "Category             4\n",
       "Subcategory         33\n",
       "ListPrice          103\n",
       "Orderdate           17\n",
       "Duedate             17\n",
       "Shipdate            17\n",
       "PromotionName        7\n",
       "SalesRegion         10\n",
       "OrderQuantity       37\n",
       "UnitPrice          214\n",
       "SalesAmount       1271\n",
       "DiscountAmount     382\n",
       "TaxAmount         1271\n",
       "Freight           1266\n",
       "dtype: int64"
      ]
     },
     "execution_count": 7,
     "metadata": {},
     "output_type": "execute_result"
    }
   ],
   "source": [
    "data.nunique()"
   ]
  },
  {
   "cell_type": "markdown",
   "metadata": {},
   "source": [
    "Use describe method to check basic statiscal measures of your data like count, mean, min, max, std quantiles etc"
   ]
  },
  {
   "cell_type": "code",
   "execution_count": 8,
   "metadata": {},
   "outputs": [
    {
     "data": {
      "text/html": [
       "<div>\n",
       "<style scoped>\n",
       "    .dataframe tbody tr th:only-of-type {\n",
       "        vertical-align: middle;\n",
       "    }\n",
       "\n",
       "    .dataframe tbody tr th {\n",
       "        vertical-align: top;\n",
       "    }\n",
       "\n",
       "    .dataframe thead th {\n",
       "        text-align: right;\n",
       "    }\n",
       "</style>\n",
       "<table border=\"1\" class=\"dataframe\">\n",
       "  <thead>\n",
       "    <tr style=\"text-align: right;\">\n",
       "      <th></th>\n",
       "      <th>ListPrice</th>\n",
       "      <th>OrderQuantity</th>\n",
       "      <th>UnitPrice</th>\n",
       "      <th>SalesAmount</th>\n",
       "      <th>DiscountAmount</th>\n",
       "      <th>TaxAmount</th>\n",
       "      <th>Freight</th>\n",
       "    </tr>\n",
       "  </thead>\n",
       "  <tbody>\n",
       "    <tr>\n",
       "      <th>count</th>\n",
       "      <td>32032.000000</td>\n",
       "      <td>32024.000000</td>\n",
       "      <td>32040.000000</td>\n",
       "      <td>32040.000000</td>\n",
       "      <td>32040.00000</td>\n",
       "      <td>32040.000000</td>\n",
       "      <td>32040.000000</td>\n",
       "    </tr>\n",
       "    <tr>\n",
       "      <th>mean</th>\n",
       "      <td>714.663419</td>\n",
       "      <td>3.626468</td>\n",
       "      <td>424.122103</td>\n",
       "      <td>1299.023131</td>\n",
       "      <td>8.15285</td>\n",
       "      <td>103.921849</td>\n",
       "      <td>32.475594</td>\n",
       "    </tr>\n",
       "    <tr>\n",
       "      <th>std</th>\n",
       "      <td>851.623778</td>\n",
       "      <td>3.116480</td>\n",
       "      <td>506.799303</td>\n",
       "      <td>2153.316625</td>\n",
       "      <td>78.40708</td>\n",
       "      <td>172.265331</td>\n",
       "      <td>53.832916</td>\n",
       "    </tr>\n",
       "    <tr>\n",
       "      <th>min</th>\n",
       "      <td>2.290000</td>\n",
       "      <td>1.000000</td>\n",
       "      <td>1.328200</td>\n",
       "      <td>1.374000</td>\n",
       "      <td>0.00000</td>\n",
       "      <td>0.109900</td>\n",
       "      <td>0.034400</td>\n",
       "    </tr>\n",
       "    <tr>\n",
       "      <th>25%</th>\n",
       "      <td>54.990000</td>\n",
       "      <td>2.000000</td>\n",
       "      <td>32.994000</td>\n",
       "      <td>125.964000</td>\n",
       "      <td>0.00000</td>\n",
       "      <td>10.077100</td>\n",
       "      <td>3.149100</td>\n",
       "    </tr>\n",
       "    <tr>\n",
       "      <th>50%</th>\n",
       "      <td>337.220000</td>\n",
       "      <td>3.000000</td>\n",
       "      <td>202.332000</td>\n",
       "      <td>445.410000</td>\n",
       "      <td>0.00000</td>\n",
       "      <td>35.632800</td>\n",
       "      <td>11.135300</td>\n",
       "    </tr>\n",
       "    <tr>\n",
       "      <th>75%</th>\n",
       "      <td>1079.990000</td>\n",
       "      <td>5.000000</td>\n",
       "      <td>647.994000</td>\n",
       "      <td>1457.820000</td>\n",
       "      <td>0.00000</td>\n",
       "      <td>116.625600</td>\n",
       "      <td>36.445500</td>\n",
       "    </tr>\n",
       "    <tr>\n",
       "      <th>max</th>\n",
       "      <td>3578.270000</td>\n",
       "      <td>40.000000</td>\n",
       "      <td>2146.962000</td>\n",
       "      <td>27893.619000</td>\n",
       "      <td>4005.23760</td>\n",
       "      <td>2231.489500</td>\n",
       "      <td>697.340500</td>\n",
       "    </tr>\n",
       "  </tbody>\n",
       "</table>\n",
       "</div>"
      ],
      "text/plain": [
       "          ListPrice  OrderQuantity     UnitPrice   SalesAmount  \\\n",
       "count  32032.000000   32024.000000  32040.000000  32040.000000   \n",
       "mean     714.663419       3.626468    424.122103   1299.023131   \n",
       "std      851.623778       3.116480    506.799303   2153.316625   \n",
       "min        2.290000       1.000000      1.328200      1.374000   \n",
       "25%       54.990000       2.000000     32.994000    125.964000   \n",
       "50%      337.220000       3.000000    202.332000    445.410000   \n",
       "75%     1079.990000       5.000000    647.994000   1457.820000   \n",
       "max     3578.270000      40.000000   2146.962000  27893.619000   \n",
       "\n",
       "       DiscountAmount     TaxAmount       Freight  \n",
       "count     32040.00000  32040.000000  32040.000000  \n",
       "mean          8.15285    103.921849     32.475594  \n",
       "std          78.40708    172.265331     53.832916  \n",
       "min           0.00000      0.109900      0.034400  \n",
       "25%           0.00000     10.077100      3.149100  \n",
       "50%           0.00000     35.632800     11.135300  \n",
       "75%           0.00000    116.625600     36.445500  \n",
       "max        4005.23760   2231.489500    697.340500  "
      ]
     },
     "execution_count": 8,
     "metadata": {},
     "output_type": "execute_result"
    }
   ],
   "source": [
    "data.describe()"
   ]
  },
  {
   "cell_type": "markdown",
   "metadata": {},
   "source": [
    "# Data Cleaning\n",
    "\n",
    "There are some error in the dataset that you need to fix:\n",
    "\n",
    "How many null values are there in each columns?\n",
    "    \n",
    "    \n"
   ]
  },
  {
   "cell_type": "code",
   "execution_count": 9,
   "metadata": {},
   "outputs": [
    {
     "data": {
      "text/plain": [
       "OrderNumber          0\n",
       "ProductName          0\n",
       "Color             2967\n",
       "Category             0\n",
       "Subcategory          0\n",
       "ListPrice            8\n",
       "Orderdate            0\n",
       "Duedate              0\n",
       "Shipdate             0\n",
       "PromotionName        0\n",
       "SalesRegion         15\n",
       "OrderQuantity       16\n",
       "UnitPrice            0\n",
       "SalesAmount          0\n",
       "DiscountAmount       0\n",
       "TaxAmount            0\n",
       "Freight              0\n",
       "dtype: int64"
      ]
     },
     "execution_count": 9,
     "metadata": {},
     "output_type": "execute_result"
    }
   ],
   "source": [
    "data.isnull().sum()"
   ]
  },
  {
   "cell_type": "markdown",
   "metadata": {},
   "source": [
    "- Some of the products have Quantity as Null, you need to set their quantity to 1."
   ]
  },
  {
   "cell_type": "code",
   "execution_count": 10,
   "metadata": {},
   "outputs": [],
   "source": [
    "data['OrderQuantity'].fillna(1, inplace=True)"
   ]
  },
  {
   "cell_type": "markdown",
   "metadata": {},
   "source": [
    "- Some of the products have Null List Price, set their price as the mean of that product price in other orders.\n",
    "    "
   ]
  },
  {
   "cell_type": "code",
   "execution_count": 11,
   "metadata": {},
   "outputs": [],
   "source": [
    "data.ListPrice = data.groupby('ProductName')['ListPrice'].apply(lambda x: x.fillna(x.mean()))\n",
    "data.ListPrice = data.ListPrice.fillna(data.ListPrice.mean())"
   ]
  },
  {
   "cell_type": "markdown",
   "metadata": {},
   "source": [
    "- Some orders do not have a sales region assigned, you need to remove such order lines"
   ]
  },
  {
   "cell_type": "code",
   "execution_count": 12,
   "metadata": {},
   "outputs": [],
   "source": [
    "data = data[data['SalesRegion'].notna()]"
   ]
  },
  {
   "cell_type": "markdown",
   "metadata": {},
   "source": [
    "- Some orders have Due date less than Order date, due date should be set as Order data in such cases."
   ]
  },
  {
   "cell_type": "code",
   "execution_count": 13,
   "metadata": {},
   "outputs": [],
   "source": [
    "data.loc[data['Orderdate'] > data['Duedate'] , 'DueData'] = 'OrderDate'"
   ]
  },
  {
   "cell_type": "markdown",
   "metadata": {},
   "source": [
    "Do you feel there are outliers in the data? Let's eliminate extreme values (if any) in Order Sales Amount. \n",
    "Note: Extreme values can be seen as those outside +/- 3 standard deviation. \n",
    "\n",
    "Do you think this is wise to identify outliers this way?\n"
   ]
  },
  {
   "cell_type": "code",
   "execution_count": 14,
   "metadata": {},
   "outputs": [
    {
     "name": "stdout",
     "output_type": "stream",
     "text": [
      "1298.8642341233315 2153.181910775347 -5160.68149820271 7758.409966449373\n"
     ]
    }
   ],
   "source": [
    "# outliers = data[data['SalesAmount'] > (data['SalesAmount'].mean() + (3 * data['SalesAmount'].std()))] \n",
    "# outliers2 = data[data['SalesAmount'] < (data['SalesAmount'].mean() - (3 * data['SalesAmount'].std()))]\n",
    "# outliers.append(outliers2)\n",
    "# outliers.head()\n",
    "\n",
    "#removing outliers from data:\n",
    "print(data['SalesAmount'].mean(), data['SalesAmount'].std(), data['SalesAmount'].mean() - 3 * data['SalesAmount'].std(), data['SalesAmount'].mean() + 3 * data['SalesAmount'].std())\n",
    "data = data[data['SalesAmount'] < (data['SalesAmount'].mean() + (3 * data['SalesAmount'].std()))] \n",
    "data = data[data['SalesAmount'] > (data['SalesAmount'].mean() - (3 * data['SalesAmount'].std()))]"
   ]
  },
  {
   "cell_type": "markdown",
   "metadata": {},
   "source": [
    "#Do you think this is wise to identify outliers this way?"
   ]
  },
  {
   "cell_type": "markdown",
   "metadata": {},
   "source": [
    "**Answer**:Even though the outliers that we have calculated above are only 2.47% of the data, but I dont think this is a wise way to find outliers as some of the outliers have sales amount very similar to those orders which are not being considered as outliers for example, orders with sales amount 7642.6382 are not being considered outliers, whereas those with sales amount of 7853.625 are being considered as outliers.\n",
    "<br>\n",
    "The sales amount depends on the price of the product. Some orders contain products are far more expensive than most of the products and hence they are being considered as outliers but if we closely analyze those orders, they are not deviating from other orders in terms of the quantity of products ordered for example orders with sales amount upto 8000 still have 4-6 bikes and the mean is 3.6. However past the \\\\$8500 point, order quantity becomes very high going to more than 10, so these should be considered as outliers."
   ]
  },
  {
   "cell_type": "markdown",
   "metadata": {},
   "source": [
    "# Data Exploration"
   ]
  },
  {
   "cell_type": "markdown",
   "metadata": {},
   "source": [
    "Check how many products have been sold under each category."
   ]
  },
  {
   "cell_type": "code",
   "execution_count": 15,
   "metadata": {},
   "outputs": [
    {
     "data": {
      "text/html": [
       "<div>\n",
       "<style scoped>\n",
       "    .dataframe tbody tr th:only-of-type {\n",
       "        vertical-align: middle;\n",
       "    }\n",
       "\n",
       "    .dataframe tbody tr th {\n",
       "        vertical-align: top;\n",
       "    }\n",
       "\n",
       "    .dataframe thead th {\n",
       "        text-align: right;\n",
       "    }\n",
       "</style>\n",
       "<table border=\"1\" class=\"dataframe\">\n",
       "  <thead>\n",
       "    <tr style=\"text-align: right;\">\n",
       "      <th></th>\n",
       "      <th>Category</th>\n",
       "      <th>OrderQuantity</th>\n",
       "    </tr>\n",
       "  </thead>\n",
       "  <tbody>\n",
       "    <tr>\n",
       "      <th>0</th>\n",
       "      <td>Accessories</td>\n",
       "      <td>14355</td>\n",
       "    </tr>\n",
       "    <tr>\n",
       "      <th>1</th>\n",
       "      <td>Bikes</td>\n",
       "      <td>31987</td>\n",
       "    </tr>\n",
       "    <tr>\n",
       "      <th>2</th>\n",
       "      <td>Clothing</td>\n",
       "      <td>35549</td>\n",
       "    </tr>\n",
       "    <tr>\n",
       "      <th>3</th>\n",
       "      <td>Components</td>\n",
       "      <td>28148</td>\n",
       "    </tr>\n",
       "  </tbody>\n",
       "</table>\n",
       "</div>"
      ],
      "text/plain": [
       "      Category  OrderQuantity\n",
       "0  Accessories          14355\n",
       "1        Bikes          31987\n",
       "2     Clothing          35549\n",
       "3   Components          28148"
      ]
     },
     "execution_count": 15,
     "metadata": {},
     "output_type": "execute_result"
    }
   ],
   "source": [
    "data.groupby(['Category']).agg({'OrderQuantity':np.sum}).reset_index()"
   ]
  },
  {
   "cell_type": "markdown",
   "metadata": {},
   "source": [
    "Draw boxplot of cateogry vs product list price to compare prices of products across categories."
   ]
  },
  {
   "cell_type": "code",
   "execution_count": 16,
   "metadata": {},
   "outputs": [
    {
     "data": {
      "text/plain": [
       "<matplotlib.axes._subplots.AxesSubplot at 0x289106fd4c8>"
      ]
     },
     "execution_count": 16,
     "metadata": {},
     "output_type": "execute_result"
    },
    {
     "data": {
      "image/png": "[encoded data removed]",
      "text/plain": [
       "<Figure size 720x864 with 1 Axes>"
      ]
     },
     "metadata": {
      "needs_background": "light"
     },
     "output_type": "display_data"
    }
   ],
   "source": [
    "plt.figure(figsize =(10, 12)) \n",
    "sns.boxplot(y= data['ListPrice'], x = data['Category'])"
   ]
  },
  {
   "cell_type": "markdown",
   "metadata": {},
   "source": [
    "**Analysis**:The box plot shows that List Price of Bikes is very high compared to the rest of the categories. This makes sense because the price of bikes would be a lot more than accessories and clothes. We can also see that the bike List price is positively skewed. This means that most of the bike prices are more than the median price. "
   ]
  },
  {
   "cell_type": "markdown",
   "metadata": {},
   "source": [
    "Plot bar chart and pie chart to see total sales of products in each category."
   ]
  },
  {
   "cell_type": "code",
   "execution_count": 17,
   "metadata": {},
   "outputs": [
    {
     "data": {
      "image/png": "[encoded data removed]",
      "text/plain": [
       "<Figure size 720x504 with 1 Axes>"
      ]
     },
     "metadata": {},
     "output_type": "display_data"
    },
    {
     "data": {
      "image/png": "[encoded data removed]",
      "text/plain": [
       "<Figure size 720x360 with 1 Axes>"
      ]
     },
     "metadata": {
      "needs_background": "light"
     },
     "output_type": "display_data"
    }
   ],
   "source": [
    "df = data.groupby(['Category']).agg({'OrderQuantity':np.sum}).reset_index()\n",
    "fig1 = plt.figure(figsize =(10, 7)) \n",
    "plt.pie(df.OrderQuantity, labels = df.Category,autopct='%1.2f%%')\n",
    "# show plot \n",
    "plt.show() \n",
    "\n",
    "fig2 = plt.figure(figsize = (10, 5)) \n",
    "plt.bar(df.Category, df.OrderQuantity, width = 0.4)\n",
    "plt.xlabel(\"Categories\") \n",
    "plt.ylabel(\"Total sales of products\")  \n",
    "# show plot \n",
    "plt.show() "
   ]
  },
  {
   "cell_type": "markdown",
   "metadata": {},
   "source": [
    "**Analysis**:As can be observed from the charts, the highest number of products sold come from Clothing category followed by Bikes then components and then Accessories with the least number of products sold."
   ]
  },
  {
   "cell_type": "markdown",
   "metadata": {},
   "source": [
    "---------------------------------------------\n",
    "Plot histogram of all numeric attrubites to see their distribution"
   ]
  },
  {
   "cell_type": "code",
   "execution_count": 18,
   "metadata": {},
   "outputs": [
    {
     "data": {
      "image/png": "[encoded data removed]",
      "text/plain": [
       "<Figure size 2160x1440 with 9 Axes>"
      ]
     },
     "metadata": {
      "needs_background": "light"
     },
     "output_type": "display_data"
    }
   ],
   "source": [
    "# Plot the histograms of each \n",
    "data.hist(bins=30, figsize=(30,20))\n",
    "plt.show()"
   ]
  },
  {
   "cell_type": "markdown",
   "metadata": {},
   "source": [
    "**Analysis**:From the above histograms we can make some conclusions:\n",
    "1. Most of the Products have been ordered without any discount i.e. at full price.\n",
    "2. Most of the orders have a very low freight amount charged. \n",
    "3. The list Price and Unit Price are following the same pattern. The prices are also very similar in both histograms. \n",
    "4. Most of the orders have 1-2 products of each kind. Many orders also have upto 7 same products but more than that is quite rare.\n",
    "5. Sales amount, tax amount and Freight are following the same trends and most of the orders have comparatively low sales amount (less than $1000) and hence low tax amount and freight applied on them.\n"
   ]
  },
  {
   "cell_type": "markdown",
   "metadata": {},
   "source": [
    "Plor bar chart for categorial attributes Category, SubCategory, Promotion and Region."
   ]
  },
  {
   "cell_type": "code",
   "execution_count": 19,
   "metadata": {},
   "outputs": [
    {
     "data": {
      "image/png": "[encoded data removed]",
      "text/plain": [
       "<Figure size 720x360 with 1 Axes>"
      ]
     },
     "metadata": {
      "needs_background": "light"
     },
     "output_type": "display_data"
    }
   ],
   "source": [
    "#Category\n",
    "df=df.sort_values('OrderQuantity')\n",
    "fig2 = plt.figure(figsize = (10, 5)) \n",
    "plt.bar(df.Category, df.OrderQuantity, color ='maroon', width = 0.4)\n",
    "plt.xlabel(\"Categories\") \n",
    "plt.ylabel(\"Total number of products sold\")  \n",
    "# show plot \n",
    "plt.show() "
   ]
  },
  {
   "cell_type": "markdown",
   "metadata": {},
   "source": [
    "**Analysis**:As can be observed from the charts, the highest number of products sold come from Clothing category followed by bikes then components and then Accessories with the least number of products sold."
   ]
  },
  {
   "cell_type": "code",
   "execution_count": 20,
   "metadata": {},
   "outputs": [
    {
     "data": {
      "image/png": "[encoded data removed]",
      "text/plain": [
       "<Figure size 3600x1440 with 1 Axes>"
      ]
     },
     "metadata": {
      "needs_background": "light"
     },
     "output_type": "display_data"
    }
   ],
   "source": [
    "#subcategory\n",
    "df = data.groupby(['Subcategory']).agg({'OrderQuantity':np.sum}).reset_index()\n",
    "df=df.sort_values('OrderQuantity')\n",
    "fig = plt.figure(figsize = (50, 20)) \n",
    "plt.bar(df.Subcategory, df.OrderQuantity, color ='maroon', width = 0.8)\n",
    "plt.xlabel(\"Subcategory\") \n",
    "plt.ylabel(\"Total number of items sold\")  \n",
    "# show plot \n",
    "plt.show() "
   ]
  },
  {
   "cell_type": "markdown",
   "metadata": {},
   "source": [
    "**Analysis**:If we zoom in we can observe that the sub category with highest number of products sold is Road Bikes followed by jerseys and then mountain bikes. The sub cetgories with the least number of products sold are tire tubes and forks."
   ]
  },
  {
   "cell_type": "code",
   "execution_count": 21,
   "metadata": {},
   "outputs": [
    {
     "data": {
      "image/png": "[encoded data removed]",
      "text/plain": [
       "<Figure size 720x360 with 1 Axes>"
      ]
     },
     "metadata": {
      "needs_background": "light"
     },
     "output_type": "display_data"
    }
   ],
   "source": [
    "#Region\n",
    "df = data.groupby(['SalesRegion']).agg({'OrderQuantity':np.sum}).reset_index().sort_values('OrderQuantity')\n",
    "fig = plt.figure(figsize = (10, 5)) \n",
    "plt.bar(df.SalesRegion, df.OrderQuantity, color ='maroon', width = 0.6)\n",
    "plt.xlabel(\"SalesRegion\") \n",
    "plt.ylabel(\"Total number of items sold\")  \n",
    "# show plot \n",
    "plt.show() "
   ]
  },
  {
   "cell_type": "markdown",
   "metadata": {},
   "source": [
    "**Analysis**:Here we see the highest number of products sold are in Southwest, Canada and then Northwest whereas the least number of products sold are in Australia and European countries like Germany and UK."
   ]
  },
  {
   "cell_type": "markdown",
   "metadata": {},
   "source": [
    "Plot bar chart for promotions. You need to exclude 'No Discount' data while plotting bar chart."
   ]
  },
  {
   "cell_type": "code",
   "execution_count": 22,
   "metadata": {},
   "outputs": [
    {
     "data": {
      "image/png": "[encoded data removed]",
      "text/plain": [
       "<Figure size 1080x360 with 1 Axes>"
      ]
     },
     "metadata": {
      "needs_background": "light"
     },
     "output_type": "display_data"
    }
   ],
   "source": [
    "#Promotion\n",
    "df = data.groupby(['PromotionName']).agg({'OrderQuantity':np.sum}).reset_index().sort_values('OrderQuantity')\n",
    "#Filter data\n",
    "#print(promotionData)\n",
    "promotionData = df[df.PromotionName != 'No Discount']\n",
    "#Plot bar chart\n",
    "fig = plt.figure(figsize = (15, 5)) \n",
    "plt.bar(promotionData.PromotionName, promotionData.OrderQuantity, color ='maroon', width = 0.6)\n",
    "plt.xlabel(\"Promotion Name\") \n",
    "plt.ylabel(\"Total number of items sold\")  \n",
    "# show plot \n",
    "plt.show()"
   ]
  },
  {
   "cell_type": "markdown",
   "metadata": {},
   "source": [
    "**Analysis**:Highest number of products sold are under the discount, 'Volume Discount 11 to 14' followed closely by 'Volume Discount 15 to 24' after which there is a stark decrease in products sold under discounts with least number of products sold under the discount 'Road-650 Overstock'."
   ]
  },
  {
   "cell_type": "markdown",
   "metadata": {},
   "source": [
    "Plot number of orders placed on each day of week. Is there any interesting trend?"
   ]
  },
  {
   "cell_type": "code",
   "execution_count": 23,
   "metadata": {},
   "outputs": [
    {
     "data": {
      "image/png": "[encoded data removed]",
      "text/plain": [
       "<Figure size 1080x360 with 1 Axes>"
      ]
     },
     "metadata": {
      "needs_background": "light"
     },
     "output_type": "display_data"
    }
   ],
   "source": [
    "df = data.groupby(['Orderdate', 'OrderNumber']).size()\n",
    "new_df = df.to_frame(name = 'size').reset_index()\n",
    "new_df['NumberofOrders']=1\n",
    "new_df['day_of_week'] = new_df['Orderdate'].dt.day_name()\n",
    "\n",
    "dataSales = new_df.groupby('day_of_week')['NumberofOrders'].agg('sum').reset_index()\n",
    "dataSales = dataSales.loc[[1,5,6,4,0,2,3], :]\n",
    "\n",
    "# #plotting bar chart\n",
    "fig = plt.figure(figsize = (15, 5)) \n",
    "plt.bar(dataSales.day_of_week, dataSales.NumberofOrders, color ='maroon', width = 0.6)\n",
    "plt.xlabel(\"Day of week\") \n",
    "plt.ylabel(\"Total orders\") \n",
    "plt.show()\n"
   ]
  },
  {
   "cell_type": "markdown",
   "metadata": {},
   "source": [
    "**Analysis**:There are more orders placed on weekdays than weekends with the highest number of orders being placed on Thursdays. The trend drops to the least number of orders plcaed on Friday after which it picks up on Saturday and Sunday."
   ]
  },
  {
   "cell_type": "markdown",
   "metadata": {},
   "source": [
    "Is there any impact of promotion on overall product sales?"
   ]
  },
  {
   "cell_type": "code",
   "execution_count": 38,
   "metadata": {},
   "outputs": [
    {
     "name": "stdout",
     "output_type": "stream",
     "text": [
      "Index(['PromotionName', 'OrderQuantity'], dtype='object')\n"
     ]
    },
    {
     "data": {
      "image/png": "[encoded data removed]",
      "text/plain": [
       "<Figure size 1440x360 with 1 Axes>"
      ]
     },
     "metadata": {
      "needs_background": "light"
     },
     "output_type": "display_data"
    },
    {
     "data": {
      "text/html": [
       "<div>\n",
       "<style scoped>\n",
       "    .dataframe tbody tr th:only-of-type {\n",
       "        vertical-align: middle;\n",
       "    }\n",
       "\n",
       "    .dataframe tbody tr th {\n",
       "        vertical-align: top;\n",
       "    }\n",
       "\n",
       "    .dataframe thead th {\n",
       "        text-align: right;\n",
       "    }\n",
       "</style>\n",
       "<table border=\"1\" class=\"dataframe\">\n",
       "  <thead>\n",
       "    <tr style=\"text-align: right;\">\n",
       "      <th></th>\n",
       "      <th>PromotionName</th>\n",
       "      <th>OrderQuantity</th>\n",
       "    </tr>\n",
       "  </thead>\n",
       "  <tbody>\n",
       "    <tr>\n",
       "      <th>0</th>\n",
       "      <td>No Discount</td>\n",
       "      <td>3.136119</td>\n",
       "    </tr>\n",
       "    <tr>\n",
       "      <th>1</th>\n",
       "      <td>Road-650 Overstock</td>\n",
       "      <td>4.567568</td>\n",
       "    </tr>\n",
       "    <tr>\n",
       "      <th>2</th>\n",
       "      <td>Touring-1000 Promotion</td>\n",
       "      <td>2.734463</td>\n",
       "    </tr>\n",
       "    <tr>\n",
       "      <th>3</th>\n",
       "      <td>Touring-3000 Promotion</td>\n",
       "      <td>3.019753</td>\n",
       "    </tr>\n",
       "    <tr>\n",
       "      <th>4</th>\n",
       "      <td>Volume Discount 11 to 14</td>\n",
       "      <td>12.302003</td>\n",
       "    </tr>\n",
       "    <tr>\n",
       "      <th>5</th>\n",
       "      <td>Volume Discount 15 to 24</td>\n",
       "      <td>17.818182</td>\n",
       "    </tr>\n",
       "    <tr>\n",
       "      <th>6</th>\n",
       "      <td>Volume Discount 25 to 40</td>\n",
       "      <td>28.638298</td>\n",
       "    </tr>\n",
       "  </tbody>\n",
       "</table>\n",
       "</div>"
      ],
      "text/plain": [
       "              PromotionName  OrderQuantity\n",
       "0               No Discount       3.136119\n",
       "1        Road-650 Overstock       4.567568\n",
       "2    Touring-1000 Promotion       2.734463\n",
       "3    Touring-3000 Promotion       3.019753\n",
       "4  Volume Discount 11 to 14      12.302003\n",
       "5  Volume Discount 15 to 24      17.818182\n",
       "6  Volume Discount 25 to 40      28.638298"
      ]
     },
     "execution_count": 38,
     "metadata": {},
     "output_type": "execute_result"
    }
   ],
   "source": [
    "df = data.groupby(['OrderNumber','PromotionName']).agg({'OrderQuantity': ['sum']})\n",
    "df_promo = data.groupby(['PromotionName'], as_index=False).agg({'OrderQuantity': ['mean']})\n",
    "df_promo.columns = df_promo.columns.droplevel(1)\n",
    "df_promo.head(10)\n",
    "print(df_promo.columns)\n",
    "\n",
    "#plot bar chart\n",
    "fig = plt.figure(figsize = (20, 5))\n",
    "plt.bar(df_promo.PromotionName, df_promo.OrderQuantity, align='center', width=0.6)\n",
    "plt.xlabel(\"Promtion\") \n",
    "plt.ylabel(\"Mean quanitity of items in orders\") \n",
    "plt.show()\n",
    "df_promo.head(10)"
   ]
  },
  {
   "cell_type": "markdown",
   "metadata": {},
   "source": [
    "**Analysis**: As we can see, the number of average quanitites in an order increases overall when there is a promotion as compared to without any discount. We can also see discount 25 to 40 having most order quantities followed by vol 15 to 20 and then vol 11 to 14. Hence, promotions have a positive impact on product sales."
   ]
  },
  {
   "cell_type": "markdown",
   "metadata": {},
   "source": [
    "Insert a new column 'ProcessingDays' which is calculated as ShippedDate - OrderDate"
   ]
  },
  {
   "cell_type": "code",
   "execution_count": 25,
   "metadata": {},
   "outputs": [
    {
     "data": {
      "text/plain": [
       "OrderNumber               object\n",
       "ProductName               object\n",
       "Color                     object\n",
       "Category                  object\n",
       "Subcategory               object\n",
       "ListPrice                float64\n",
       "Orderdate         datetime64[ns]\n",
       "Duedate           datetime64[ns]\n",
       "Shipdate          datetime64[ns]\n",
       "PromotionName             object\n",
       "SalesRegion               object\n",
       "OrderQuantity              Int64\n",
       "UnitPrice                float64\n",
       "SalesAmount              float64\n",
       "DiscountAmount           float64\n",
       "TaxAmount                float64\n",
       "Freight                  float64\n",
       "DueData                   object\n",
       "ProcessingDays             int32\n",
       "dtype: object"
      ]
     },
     "execution_count": 25,
     "metadata": {},
     "output_type": "execute_result"
    }
   ],
   "source": [
    "data['ProcessingDays'] = (data['Shipdate']-data['Orderdate'])\n",
    "data['ProcessingDays'] = data['ProcessingDays'].astype('timedelta64[D]').astype(int)\n",
    "data.dtypes"
   ]
  },
  {
   "cell_type": "markdown",
   "metadata": {},
   "source": [
    "What is the average processing time? Are there deviations from that average? Draw boxplot of ProcessingDays to analyse. \n",
    "Do you see any outlier here?"
   ]
  },
  {
   "cell_type": "code",
   "execution_count": 27,
   "metadata": {},
   "outputs": [
    {
     "data": {
      "text/plain": [
       "count    1866.000000\n",
       "mean       16.737942\n",
       "std        16.411185\n",
       "min         1.000000\n",
       "25%         3.000000\n",
       "50%        10.000000\n",
       "75%        27.000000\n",
       "max        68.000000\n",
       "Name: Count, dtype: float64"
      ]
     },
     "execution_count": 27,
     "metadata": {},
     "output_type": "execute_result"
    }
   ],
   "source": [
    "df.head(20)\n",
    "df = data.groupby(['OrderNumber'], sort=False).size().reset_index(name='Count')\n",
    "df['Count'].describe()\n"
   ]
  },
  {
   "cell_type": "code",
   "execution_count": 30,
   "metadata": {},
   "outputs": [
    {
     "data": {
      "text/plain": [
       "<matplotlib.axes._subplots.AxesSubplot at 0x28912aa3248>"
      ]
     },
     "execution_count": 30,
     "metadata": {},
     "output_type": "execute_result"
    },
    {
     "data": {
      "image/png": "[encoded data removed]",
      "text/plain": [
       "<Figure size 432x288 with 1 Axes>"
      ]
     },
     "metadata": {
      "needs_background": "light"
     },
     "output_type": "display_data"
    }
   ],
   "source": [
    "sns.boxplot(y= df['Count'])"
   ]
  },
  {
   "cell_type": "markdown",
   "metadata": {},
   "source": [
    "**Analysis**:The above box plot shows that the median of the number of products in an order is 10 and the mean is 16.7 therefore we see the box plot positively skewed. The maximum number of products in an order are 68 and this is considered an outlier.  "
   ]
  },
  {
   "cell_type": "markdown",
   "metadata": {},
   "source": [
    "Perform some other meaningful analysis on the data and present your findings."
   ]
  },
  {
   "cell_type": "markdown",
   "metadata": {},
   "source": [
    "## Normalization"
   ]
  },
  {
   "cell_type": "markdown",
   "metadata": {},
   "source": [
    "Create a new column 'NormalizedPrice' that contains normalized ListPrice of products. Z-Score normalization will be performed."
   ]
  },
  {
   "cell_type": "code",
   "execution_count": 31,
   "metadata": {},
   "outputs": [
    {
     "data": {
      "text/html": [
       "<div>\n",
       "<style scoped>\n",
       "    .dataframe tbody tr th:only-of-type {\n",
       "        vertical-align: middle;\n",
       "    }\n",
       "\n",
       "    .dataframe tbody tr th {\n",
       "        vertical-align: top;\n",
       "    }\n",
       "\n",
       "    .dataframe thead th {\n",
       "        text-align: right;\n",
       "    }\n",
       "</style>\n",
       "<table border=\"1\" class=\"dataframe\">\n",
       "  <thead>\n",
       "    <tr style=\"text-align: right;\">\n",
       "      <th></th>\n",
       "      <th>OrderNumber</th>\n",
       "      <th>ProductName</th>\n",
       "      <th>Color</th>\n",
       "      <th>Category</th>\n",
       "      <th>Subcategory</th>\n",
       "      <th>ListPrice</th>\n",
       "      <th>Orderdate</th>\n",
       "      <th>Duedate</th>\n",
       "      <th>Shipdate</th>\n",
       "      <th>PromotionName</th>\n",
       "      <th>SalesRegion</th>\n",
       "      <th>OrderQuantity</th>\n",
       "      <th>UnitPrice</th>\n",
       "      <th>SalesAmount</th>\n",
       "      <th>DiscountAmount</th>\n",
       "      <th>TaxAmount</th>\n",
       "      <th>Freight</th>\n",
       "      <th>DueData</th>\n",
       "      <th>ProcessingDays</th>\n",
       "      <th>NormalizedPrice</th>\n",
       "    </tr>\n",
       "  </thead>\n",
       "  <tbody>\n",
       "    <tr>\n",
       "      <th>0</th>\n",
       "      <td>SO43843</td>\n",
       "      <td>Mountain-100 Silver, 48</td>\n",
       "      <td>Silver</td>\n",
       "      <td>Bikes</td>\n",
       "      <td>Mountain Bikes</td>\n",
       "      <td>3399.9900</td>\n",
       "      <td>2011-01-29</td>\n",
       "      <td>2011-02-10</td>\n",
       "      <td>2011-02-05</td>\n",
       "      <td>No Discount</td>\n",
       "      <td>Central</td>\n",
       "      <td>2</td>\n",
       "      <td>2039.9940</td>\n",
       "      <td>4079.9880</td>\n",
       "      <td>0.0</td>\n",
       "      <td>326.3990</td>\n",
       "      <td>101.9997</td>\n",
       "      <td>NaN</td>\n",
       "      <td>7</td>\n",
       "      <td>3.409273</td>\n",
       "    </tr>\n",
       "    <tr>\n",
       "      <th>1</th>\n",
       "      <td>SO43843</td>\n",
       "      <td>Mountain-100 Black, 48</td>\n",
       "      <td>Black</td>\n",
       "      <td>Bikes</td>\n",
       "      <td>Mountain Bikes</td>\n",
       "      <td>3374.9900</td>\n",
       "      <td>2011-01-29</td>\n",
       "      <td>2011-02-10</td>\n",
       "      <td>2011-02-05</td>\n",
       "      <td>No Discount</td>\n",
       "      <td>Central</td>\n",
       "      <td>2</td>\n",
       "      <td>2024.9940</td>\n",
       "      <td>4049.9880</td>\n",
       "      <td>0.0</td>\n",
       "      <td>323.9990</td>\n",
       "      <td>101.2497</td>\n",
       "      <td>NaN</td>\n",
       "      <td>7</td>\n",
       "      <td>3.378086</td>\n",
       "    </tr>\n",
       "    <tr>\n",
       "      <th>2</th>\n",
       "      <td>SO43843</td>\n",
       "      <td>HL Mountain Frame - Silver, 46</td>\n",
       "      <td>Silver</td>\n",
       "      <td>Components</td>\n",
       "      <td>Mountain Frames</td>\n",
       "      <td>1204.3248</td>\n",
       "      <td>2011-01-29</td>\n",
       "      <td>2011-02-10</td>\n",
       "      <td>2011-02-05</td>\n",
       "      <td>No Discount</td>\n",
       "      <td>Central</td>\n",
       "      <td>2</td>\n",
       "      <td>722.5949</td>\n",
       "      <td>1445.1898</td>\n",
       "      <td>0.0</td>\n",
       "      <td>115.6152</td>\n",
       "      <td>36.1297</td>\n",
       "      <td>NaN</td>\n",
       "      <td>7</td>\n",
       "      <td>0.670221</td>\n",
       "    </tr>\n",
       "    <tr>\n",
       "      <th>4</th>\n",
       "      <td>SO43843</td>\n",
       "      <td>HL Mountain Frame - Silver, 38</td>\n",
       "      <td>Silver</td>\n",
       "      <td>Components</td>\n",
       "      <td>Mountain Frames</td>\n",
       "      <td>1204.3248</td>\n",
       "      <td>2011-01-29</td>\n",
       "      <td>2011-02-10</td>\n",
       "      <td>2011-02-05</td>\n",
       "      <td>No Discount</td>\n",
       "      <td>Central</td>\n",
       "      <td>2</td>\n",
       "      <td>722.5949</td>\n",
       "      <td>1445.1898</td>\n",
       "      <td>0.0</td>\n",
       "      <td>115.6152</td>\n",
       "      <td>36.1297</td>\n",
       "      <td>NaN</td>\n",
       "      <td>7</td>\n",
       "      <td>0.670221</td>\n",
       "    </tr>\n",
       "    <tr>\n",
       "      <th>5</th>\n",
       "      <td>SO43843</td>\n",
       "      <td>HL Mountain Frame - Silver, 48</td>\n",
       "      <td>Silver</td>\n",
       "      <td>Components</td>\n",
       "      <td>Mountain Frames</td>\n",
       "      <td>1364.5000</td>\n",
       "      <td>2011-01-29</td>\n",
       "      <td>2011-02-10</td>\n",
       "      <td>2011-02-05</td>\n",
       "      <td>No Discount</td>\n",
       "      <td>Central</td>\n",
       "      <td>1</td>\n",
       "      <td>818.7000</td>\n",
       "      <td>818.7000</td>\n",
       "      <td>0.0</td>\n",
       "      <td>65.4960</td>\n",
       "      <td>20.4675</td>\n",
       "      <td>NaN</td>\n",
       "      <td>7</td>\n",
       "      <td>0.870036</td>\n",
       "    </tr>\n",
       "    <tr>\n",
       "      <th>6</th>\n",
       "      <td>SO43843</td>\n",
       "      <td>HL Mountain Frame - Black, 48</td>\n",
       "      <td>Black</td>\n",
       "      <td>Components</td>\n",
       "      <td>Mountain Frames</td>\n",
       "      <td>1349.6000</td>\n",
       "      <td>2011-01-29</td>\n",
       "      <td>2011-02-10</td>\n",
       "      <td>2011-02-05</td>\n",
       "      <td>No Discount</td>\n",
       "      <td>Central</td>\n",
       "      <td>1</td>\n",
       "      <td>809.7600</td>\n",
       "      <td>809.7600</td>\n",
       "      <td>0.0</td>\n",
       "      <td>64.7808</td>\n",
       "      <td>20.2440</td>\n",
       "      <td>NaN</td>\n",
       "      <td>7</td>\n",
       "      <td>0.851449</td>\n",
       "    </tr>\n",
       "    <tr>\n",
       "      <th>7</th>\n",
       "      <td>SO43843</td>\n",
       "      <td>Mountain-100 Silver, 38</td>\n",
       "      <td>Silver</td>\n",
       "      <td>Bikes</td>\n",
       "      <td>Mountain Bikes</td>\n",
       "      <td>3399.9900</td>\n",
       "      <td>2011-01-29</td>\n",
       "      <td>2011-02-10</td>\n",
       "      <td>2011-02-05</td>\n",
       "      <td>No Discount</td>\n",
       "      <td>Central</td>\n",
       "      <td>2</td>\n",
       "      <td>2039.9940</td>\n",
       "      <td>4079.9880</td>\n",
       "      <td>0.0</td>\n",
       "      <td>326.3990</td>\n",
       "      <td>101.9997</td>\n",
       "      <td>NaN</td>\n",
       "      <td>7</td>\n",
       "      <td>3.409273</td>\n",
       "    </tr>\n",
       "    <tr>\n",
       "      <th>8</th>\n",
       "      <td>SO43843</td>\n",
       "      <td>Mountain Bike Socks, M</td>\n",
       "      <td>White</td>\n",
       "      <td>Clothing</td>\n",
       "      <td>Socks</td>\n",
       "      <td>9.5000</td>\n",
       "      <td>2011-01-29</td>\n",
       "      <td>2011-02-10</td>\n",
       "      <td>2011-02-05</td>\n",
       "      <td>No Discount</td>\n",
       "      <td>Central</td>\n",
       "      <td>2</td>\n",
       "      <td>5.7000</td>\n",
       "      <td>11.4000</td>\n",
       "      <td>0.0</td>\n",
       "      <td>0.9120</td>\n",
       "      <td>0.2850</td>\n",
       "      <td>NaN</td>\n",
       "      <td>7</td>\n",
       "      <td>-0.820302</td>\n",
       "    </tr>\n",
       "    <tr>\n",
       "      <th>9</th>\n",
       "      <td>SO43843</td>\n",
       "      <td>Mountain-100 Black, 42</td>\n",
       "      <td>Black</td>\n",
       "      <td>Bikes</td>\n",
       "      <td>Mountain Bikes</td>\n",
       "      <td>3374.9900</td>\n",
       "      <td>2011-01-29</td>\n",
       "      <td>2011-02-10</td>\n",
       "      <td>2011-02-05</td>\n",
       "      <td>No Discount</td>\n",
       "      <td>Central</td>\n",
       "      <td>3</td>\n",
       "      <td>2024.9940</td>\n",
       "      <td>6074.9820</td>\n",
       "      <td>0.0</td>\n",
       "      <td>485.9986</td>\n",
       "      <td>151.8746</td>\n",
       "      <td>NaN</td>\n",
       "      <td>7</td>\n",
       "      <td>3.378086</td>\n",
       "    </tr>\n",
       "    <tr>\n",
       "      <th>14</th>\n",
       "      <td>SO43845</td>\n",
       "      <td>LL Road Frame - Red, 44</td>\n",
       "      <td>Red</td>\n",
       "      <td>Components</td>\n",
       "      <td>Road Frames</td>\n",
       "      <td>306.5636</td>\n",
       "      <td>2011-01-29</td>\n",
       "      <td>2011-02-10</td>\n",
       "      <td>2011-02-05</td>\n",
       "      <td>No Discount</td>\n",
       "      <td>Southeast</td>\n",
       "      <td>1</td>\n",
       "      <td>183.9382</td>\n",
       "      <td>183.9382</td>\n",
       "      <td>0.0</td>\n",
       "      <td>14.7151</td>\n",
       "      <td>4.5985</td>\n",
       "      <td>NaN</td>\n",
       "      <td>7</td>\n",
       "      <td>-0.449720</td>\n",
       "    </tr>\n",
       "    <tr>\n",
       "      <th>15</th>\n",
       "      <td>SO43845</td>\n",
       "      <td>Long-Sleeve Logo Jersey, L</td>\n",
       "      <td>Multi</td>\n",
       "      <td>Clothing</td>\n",
       "      <td>Jerseys</td>\n",
       "      <td>48.0673</td>\n",
       "      <td>2011-01-29</td>\n",
       "      <td>2011-02-10</td>\n",
       "      <td>2011-02-05</td>\n",
       "      <td>No Discount</td>\n",
       "      <td>Southeast</td>\n",
       "      <td>3</td>\n",
       "      <td>28.8404</td>\n",
       "      <td>86.5212</td>\n",
       "      <td>0.0</td>\n",
       "      <td>6.9217</td>\n",
       "      <td>2.1630</td>\n",
       "      <td>NaN</td>\n",
       "      <td>7</td>\n",
       "      <td>-0.772190</td>\n",
       "    </tr>\n",
       "    <tr>\n",
       "      <th>16</th>\n",
       "      <td>SO43845</td>\n",
       "      <td>Road-650 Black, 52</td>\n",
       "      <td>Black</td>\n",
       "      <td>Bikes</td>\n",
       "      <td>Road Bikes</td>\n",
       "      <td>699.0982</td>\n",
       "      <td>2011-01-29</td>\n",
       "      <td>2011-02-10</td>\n",
       "      <td>2011-02-05</td>\n",
       "      <td>No Discount</td>\n",
       "      <td>Southeast</td>\n",
       "      <td>1</td>\n",
       "      <td>419.4589</td>\n",
       "      <td>419.4589</td>\n",
       "      <td>0.0</td>\n",
       "      <td>33.5567</td>\n",
       "      <td>10.4865</td>\n",
       "      <td>NaN</td>\n",
       "      <td>7</td>\n",
       "      <td>0.039960</td>\n",
       "    </tr>\n",
       "    <tr>\n",
       "      <th>17</th>\n",
       "      <td>SO43845</td>\n",
       "      <td>Road-650 Red, 48</td>\n",
       "      <td>Red</td>\n",
       "      <td>Bikes</td>\n",
       "      <td>Road Bikes</td>\n",
       "      <td>699.0982</td>\n",
       "      <td>2011-01-29</td>\n",
       "      <td>2011-02-10</td>\n",
       "      <td>2011-02-05</td>\n",
       "      <td>No Discount</td>\n",
       "      <td>Southeast</td>\n",
       "      <td>2</td>\n",
       "      <td>419.4589</td>\n",
       "      <td>838.9178</td>\n",
       "      <td>0.0</td>\n",
       "      <td>67.1134</td>\n",
       "      <td>20.9729</td>\n",
       "      <td>NaN</td>\n",
       "      <td>7</td>\n",
       "      <td>0.039960</td>\n",
       "    </tr>\n",
       "    <tr>\n",
       "      <th>18</th>\n",
       "      <td>SO43845</td>\n",
       "      <td>Road-650 Red, 62</td>\n",
       "      <td>Red</td>\n",
       "      <td>Bikes</td>\n",
       "      <td>Road Bikes</td>\n",
       "      <td>699.0982</td>\n",
       "      <td>2011-01-29</td>\n",
       "      <td>2011-02-10</td>\n",
       "      <td>2011-02-05</td>\n",
       "      <td>No Discount</td>\n",
       "      <td>Southeast</td>\n",
       "      <td>2</td>\n",
       "      <td>419.4589</td>\n",
       "      <td>838.9178</td>\n",
       "      <td>0.0</td>\n",
       "      <td>67.1134</td>\n",
       "      <td>20.9729</td>\n",
       "      <td>NaN</td>\n",
       "      <td>7</td>\n",
       "      <td>0.039960</td>\n",
       "    </tr>\n",
       "    <tr>\n",
       "      <th>19</th>\n",
       "      <td>SO43845</td>\n",
       "      <td>Road-450 Red, 58</td>\n",
       "      <td>Red</td>\n",
       "      <td>Bikes</td>\n",
       "      <td>Road Bikes</td>\n",
       "      <td>1457.9900</td>\n",
       "      <td>2011-01-29</td>\n",
       "      <td>2011-02-10</td>\n",
       "      <td>2011-02-05</td>\n",
       "      <td>No Discount</td>\n",
       "      <td>Southeast</td>\n",
       "      <td>1</td>\n",
       "      <td>874.7940</td>\n",
       "      <td>874.7940</td>\n",
       "      <td>0.0</td>\n",
       "      <td>69.9835</td>\n",
       "      <td>21.8699</td>\n",
       "      <td>NaN</td>\n",
       "      <td>7</td>\n",
       "      <td>0.986663</td>\n",
       "    </tr>\n",
       "    <tr>\n",
       "      <th>20</th>\n",
       "      <td>SO43845</td>\n",
       "      <td>Road-650 Black, 58</td>\n",
       "      <td>Black</td>\n",
       "      <td>Bikes</td>\n",
       "      <td>Road Bikes</td>\n",
       "      <td>699.0982</td>\n",
       "      <td>2011-01-29</td>\n",
       "      <td>2011-02-10</td>\n",
       "      <td>2011-02-05</td>\n",
       "      <td>No Discount</td>\n",
       "      <td>Southeast</td>\n",
       "      <td>2</td>\n",
       "      <td>419.4589</td>\n",
       "      <td>838.9178</td>\n",
       "      <td>0.0</td>\n",
       "      <td>67.1134</td>\n",
       "      <td>20.9729</td>\n",
       "      <td>NaN</td>\n",
       "      <td>7</td>\n",
       "      <td>0.039960</td>\n",
       "    </tr>\n",
       "    <tr>\n",
       "      <th>21</th>\n",
       "      <td>SO43845</td>\n",
       "      <td>Road-150 Red, 56</td>\n",
       "      <td>Red</td>\n",
       "      <td>Bikes</td>\n",
       "      <td>Road Bikes</td>\n",
       "      <td>3578.2700</td>\n",
       "      <td>2011-01-29</td>\n",
       "      <td>2011-02-10</td>\n",
       "      <td>2011-02-05</td>\n",
       "      <td>No Discount</td>\n",
       "      <td>Southeast</td>\n",
       "      <td>2</td>\n",
       "      <td>2146.9620</td>\n",
       "      <td>4293.9240</td>\n",
       "      <td>0.0</td>\n",
       "      <td>343.5139</td>\n",
       "      <td>107.3481</td>\n",
       "      <td>NaN</td>\n",
       "      <td>7</td>\n",
       "      <td>3.631675</td>\n",
       "    </tr>\n",
       "    <tr>\n",
       "      <th>22</th>\n",
       "      <td>SO43845</td>\n",
       "      <td>LL Road Frame - Red, 60</td>\n",
       "      <td>Red</td>\n",
       "      <td>Components</td>\n",
       "      <td>Road Frames</td>\n",
       "      <td>306.5636</td>\n",
       "      <td>2011-01-29</td>\n",
       "      <td>2011-02-10</td>\n",
       "      <td>2011-02-05</td>\n",
       "      <td>No Discount</td>\n",
       "      <td>Southeast</td>\n",
       "      <td>1</td>\n",
       "      <td>183.9382</td>\n",
       "      <td>183.9382</td>\n",
       "      <td>0.0</td>\n",
       "      <td>14.7151</td>\n",
       "      <td>4.5985</td>\n",
       "      <td>NaN</td>\n",
       "      <td>7</td>\n",
       "      <td>-0.449720</td>\n",
       "    </tr>\n",
       "    <tr>\n",
       "      <th>23</th>\n",
       "      <td>SO43845</td>\n",
       "      <td>AWC Logo Cap</td>\n",
       "      <td>Multi</td>\n",
       "      <td>Clothing</td>\n",
       "      <td>Caps</td>\n",
       "      <td>8.6442</td>\n",
       "      <td>2011-01-29</td>\n",
       "      <td>2011-02-10</td>\n",
       "      <td>2011-02-05</td>\n",
       "      <td>No Discount</td>\n",
       "      <td>Southeast</td>\n",
       "      <td>4</td>\n",
       "      <td>5.1865</td>\n",
       "      <td>20.7460</td>\n",
       "      <td>0.0</td>\n",
       "      <td>1.6597</td>\n",
       "      <td>0.5187</td>\n",
       "      <td>NaN</td>\n",
       "      <td>7</td>\n",
       "      <td>-0.821369</td>\n",
       "    </tr>\n",
       "    <tr>\n",
       "      <th>24</th>\n",
       "      <td>SO43846</td>\n",
       "      <td>LL Road Frame - Red, 60</td>\n",
       "      <td>Red</td>\n",
       "      <td>Components</td>\n",
       "      <td>Road Frames</td>\n",
       "      <td>306.5636</td>\n",
       "      <td>2011-01-29</td>\n",
       "      <td>2011-02-10</td>\n",
       "      <td>2011-02-05</td>\n",
       "      <td>No Discount</td>\n",
       "      <td>Canada</td>\n",
       "      <td>3</td>\n",
       "      <td>183.9382</td>\n",
       "      <td>551.8146</td>\n",
       "      <td>0.0</td>\n",
       "      <td>44.1452</td>\n",
       "      <td>13.7954</td>\n",
       "      <td>NaN</td>\n",
       "      <td>7</td>\n",
       "      <td>-0.449720</td>\n",
       "    </tr>\n",
       "  </tbody>\n",
       "</table>\n",
       "</div>"
      ],
      "text/plain": [
       "   OrderNumber                     ProductName   Color    Category  \\\n",
       "0      SO43843         Mountain-100 Silver, 48  Silver       Bikes   \n",
       "1      SO43843          Mountain-100 Black, 48   Black       Bikes   \n",
       "2      SO43843  HL Mountain Frame - Silver, 46  Silver  Components   \n",
       "4      SO43843  HL Mountain Frame - Silver, 38  Silver  Components   \n",
       "5      SO43843  HL Mountain Frame - Silver, 48  Silver  Components   \n",
       "6      SO43843   HL Mountain Frame - Black, 48   Black  Components   \n",
       "7      SO43843         Mountain-100 Silver, 38  Silver       Bikes   \n",
       "8      SO43843          Mountain Bike Socks, M   White    Clothing   \n",
       "9      SO43843          Mountain-100 Black, 42   Black       Bikes   \n",
       "14     SO43845         LL Road Frame - Red, 44     Red  Components   \n",
       "15     SO43845      Long-Sleeve Logo Jersey, L   Multi    Clothing   \n",
       "16     SO43845              Road-650 Black, 52   Black       Bikes   \n",
       "17     SO43845                Road-650 Red, 48     Red       Bikes   \n",
       "18     SO43845                Road-650 Red, 62     Red       Bikes   \n",
       "19     SO43845                Road-450 Red, 58     Red       Bikes   \n",
       "20     SO43845              Road-650 Black, 58   Black       Bikes   \n",
       "21     SO43845                Road-150 Red, 56     Red       Bikes   \n",
       "22     SO43845         LL Road Frame - Red, 60     Red  Components   \n",
       "23     SO43845                    AWC Logo Cap   Multi    Clothing   \n",
       "24     SO43846         LL Road Frame - Red, 60     Red  Components   \n",
       "\n",
       "        Subcategory  ListPrice  Orderdate    Duedate   Shipdate PromotionName  \\\n",
       "0    Mountain Bikes  3399.9900 2011-01-29 2011-02-10 2011-02-05   No Discount   \n",
       "1    Mountain Bikes  3374.9900 2011-01-29 2011-02-10 2011-02-05   No Discount   \n",
       "2   Mountain Frames  1204.3248 2011-01-29 2011-02-10 2011-02-05   No Discount   \n",
       "4   Mountain Frames  1204.3248 2011-01-29 2011-02-10 2011-02-05   No Discount   \n",
       "5   Mountain Frames  1364.5000 2011-01-29 2011-02-10 2011-02-05   No Discount   \n",
       "6   Mountain Frames  1349.6000 2011-01-29 2011-02-10 2011-02-05   No Discount   \n",
       "7    Mountain Bikes  3399.9900 2011-01-29 2011-02-10 2011-02-05   No Discount   \n",
       "8             Socks     9.5000 2011-01-29 2011-02-10 2011-02-05   No Discount   \n",
       "9    Mountain Bikes  3374.9900 2011-01-29 2011-02-10 2011-02-05   No Discount   \n",
       "14      Road Frames   306.5636 2011-01-29 2011-02-10 2011-02-05   No Discount   \n",
       "15          Jerseys    48.0673 2011-01-29 2011-02-10 2011-02-05   No Discount   \n",
       "16       Road Bikes   699.0982 2011-01-29 2011-02-10 2011-02-05   No Discount   \n",
       "17       Road Bikes   699.0982 2011-01-29 2011-02-10 2011-02-05   No Discount   \n",
       "18       Road Bikes   699.0982 2011-01-29 2011-02-10 2011-02-05   No Discount   \n",
       "19       Road Bikes  1457.9900 2011-01-29 2011-02-10 2011-02-05   No Discount   \n",
       "20       Road Bikes   699.0982 2011-01-29 2011-02-10 2011-02-05   No Discount   \n",
       "21       Road Bikes  3578.2700 2011-01-29 2011-02-10 2011-02-05   No Discount   \n",
       "22      Road Frames   306.5636 2011-01-29 2011-02-10 2011-02-05   No Discount   \n",
       "23             Caps     8.6442 2011-01-29 2011-02-10 2011-02-05   No Discount   \n",
       "24      Road Frames   306.5636 2011-01-29 2011-02-10 2011-02-05   No Discount   \n",
       "\n",
       "   SalesRegion  OrderQuantity  UnitPrice  SalesAmount  DiscountAmount  \\\n",
       "0      Central              2  2039.9940    4079.9880             0.0   \n",
       "1      Central              2  2024.9940    4049.9880             0.0   \n",
       "2      Central              2   722.5949    1445.1898             0.0   \n",
       "4      Central              2   722.5949    1445.1898             0.0   \n",
       "5      Central              1   818.7000     818.7000             0.0   \n",
       "6      Central              1   809.7600     809.7600             0.0   \n",
       "7      Central              2  2039.9940    4079.9880             0.0   \n",
       "8      Central              2     5.7000      11.4000             0.0   \n",
       "9      Central              3  2024.9940    6074.9820             0.0   \n",
       "14   Southeast              1   183.9382     183.9382             0.0   \n",
       "15   Southeast              3    28.8404      86.5212             0.0   \n",
       "16   Southeast              1   419.4589     419.4589             0.0   \n",
       "17   Southeast              2   419.4589     838.9178             0.0   \n",
       "18   Southeast              2   419.4589     838.9178             0.0   \n",
       "19   Southeast              1   874.7940     874.7940             0.0   \n",
       "20   Southeast              2   419.4589     838.9178             0.0   \n",
       "21   Southeast              2  2146.9620    4293.9240             0.0   \n",
       "22   Southeast              1   183.9382     183.9382             0.0   \n",
       "23   Southeast              4     5.1865      20.7460             0.0   \n",
       "24      Canada              3   183.9382     551.8146             0.0   \n",
       "\n",
       "    TaxAmount   Freight DueData  ProcessingDays  NormalizedPrice  \n",
       "0    326.3990  101.9997     NaN               7         3.409273  \n",
       "1    323.9990  101.2497     NaN               7         3.378086  \n",
       "2    115.6152   36.1297     NaN               7         0.670221  \n",
       "4    115.6152   36.1297     NaN               7         0.670221  \n",
       "5     65.4960   20.4675     NaN               7         0.870036  \n",
       "6     64.7808   20.2440     NaN               7         0.851449  \n",
       "7    326.3990  101.9997     NaN               7         3.409273  \n",
       "8      0.9120    0.2850     NaN               7        -0.820302  \n",
       "9    485.9986  151.8746     NaN               7         3.378086  \n",
       "14    14.7151    4.5985     NaN               7        -0.449720  \n",
       "15     6.9217    2.1630     NaN               7        -0.772190  \n",
       "16    33.5567   10.4865     NaN               7         0.039960  \n",
       "17    67.1134   20.9729     NaN               7         0.039960  \n",
       "18    67.1134   20.9729     NaN               7         0.039960  \n",
       "19    69.9835   21.8699     NaN               7         0.986663  \n",
       "20    67.1134   20.9729     NaN               7         0.039960  \n",
       "21   343.5139  107.3481     NaN               7         3.631675  \n",
       "22    14.7151    4.5985     NaN               7        -0.449720  \n",
       "23     1.6597    0.5187     NaN               7        -0.821369  \n",
       "24    44.1452   13.7954     NaN               7        -0.449720  "
      ]
     },
     "execution_count": 31,
     "metadata": {},
     "output_type": "execute_result"
    }
   ],
   "source": [
    "#z-score normalization\n",
    "data['NormalizedPrice'] = data.iloc[:,5:6].apply(lambda x: (x-x.mean())/ x.std(), axis=0)\n",
    "data.head(20)"
   ]
  },
  {
   "cell_type": "markdown",
   "metadata": {},
   "source": [
    "Is product price following a normal distribution? Is it skewed? Plot histogram."
   ]
  },
  {
   "cell_type": "code",
   "execution_count": 33,
   "metadata": {},
   "outputs": [
    {
     "data": {
      "text/plain": [
       "(array([13046.,  3629.,   462.,  3451.,  2353.,   906.,  1888.,   910.,\n",
       "          552.,   443.,     0.,   798.,   959.,  1251.,     0.,     0.,\n",
       "            0.,     0.,   199.,   386.]),\n",
       " array([1.32820000e+00, 1.08609890e+02, 2.15891580e+02, 3.23173270e+02,\n",
       "        4.30454960e+02, 5.37736650e+02, 6.45018340e+02, 7.52300030e+02,\n",
       "        8.59581720e+02, 9.66863410e+02, 1.07414510e+03, 1.18142679e+03,\n",
       "        1.28870848e+03, 1.39599017e+03, 1.50327186e+03, 1.61055355e+03,\n",
       "        1.71783524e+03, 1.82511693e+03, 1.93239862e+03, 2.03968031e+03,\n",
       "        2.14696200e+03]),\n",
       " <a list of 20 Patch objects>)"
      ]
     },
     "execution_count": 33,
     "metadata": {},
     "output_type": "execute_result"
    },
    {
     "data": {
      "image/png": "[encoded data removed]",
      "text/plain": [
       "<Figure size 432x288 with 1 Axes>"
      ]
     },
     "metadata": {
      "needs_background": "light"
     },
     "output_type": "display_data"
    }
   ],
   "source": [
    "plt.hist(data.UnitPrice, bins=20)"
   ]
  },
  {
   "cell_type": "markdown",
   "metadata": {},
   "source": [
    "**Analysis**:The histogram is not following a normal distribution, rather it is right-skewed."
   ]
  },
  {
   "cell_type": "markdown",
   "metadata": {},
   "source": [
    "Let's update UnitPrice by its log and then plot histogram. Is there any change?"
   ]
  },
  {
   "cell_type": "code",
   "execution_count": 32,
   "metadata": {},
   "outputs": [
    {
     "data": {
      "text/plain": [
       "(array([  90.,   12.,  239., 1302.,    0.,  272.,  938., 2535., 3457.,\n",
       "        2223., 1825.,  153., 1114., 2821., 1780., 4180., 1840., 2859.,\n",
       "        3008.,  585.]),\n",
       " array([0.28382464, 0.65322386, 1.02262309, 1.39202231, 1.76142153,\n",
       "        2.13082076, 2.50021998, 2.8696192 , 3.23901842, 3.60841765,\n",
       "        3.97781687, 4.34721609, 4.71661532, 5.08601454, 5.45541376,\n",
       "        5.82481298, 6.19421221, 6.56361143, 6.93301065, 7.30240988,\n",
       "        7.6718091 ]),\n",
       " <a list of 20 Patch objects>)"
      ]
     },
     "execution_count": 32,
     "metadata": {},
     "output_type": "execute_result"
    },
    {
     "data": {
      "image/png": "[encoded data removed]",
      "text/plain": [
       "<Figure size 432x288 with 1 Axes>"
      ]
     },
     "metadata": {
      "needs_background": "light"
     },
     "output_type": "display_data"
    }
   ],
   "source": [
    "plt.hist(np.log(data.UnitPrice), bins=20)"
   ]
  },
  {
   "cell_type": "markdown",
   "metadata": {},
   "source": [
    "**Analysis**:Now the histogram is a bit left-skewed now but the skew is much more gentle than before. "
   ]
  },
  {
   "cell_type": "markdown",
   "metadata": {},
   "source": [
    "Let's investigate if prices within categories are normally distributed and present your analysis."
   ]
  },
  {
   "cell_type": "code",
   "execution_count": 34,
   "metadata": {},
   "outputs": [
    {
     "data": {
      "text/plain": [
       "0        7.620702\n",
       "1        7.613322\n",
       "2        6.582849\n",
       "4        6.582849\n",
       "5        6.707718\n",
       "           ...   \n",
       "32035    7.265739\n",
       "32036    6.591550\n",
       "32037    6.400832\n",
       "32038    6.591550\n",
       "32039    5.298577\n",
       "Name: UnitPrice, Length: 31233, dtype: float64"
      ]
     },
     "execution_count": 34,
     "metadata": {},
     "output_type": "execute_result"
    },
    {
     "data": {
      "image/png": "[encoded data removed]",
      "text/plain": [
       "<Figure size 720x720 with 4 Axes>"
      ]
     },
     "metadata": {
      "needs_background": "light"
     },
     "output_type": "display_data"
    }
   ],
   "source": [
    "plot_test=np.log(data.UnitPrice).hist(by=data['Category'],sharex=True,figsize=(10,10), bins=30)  \n",
    "np.log(data.UnitPrice)"
   ]
  },
  {
   "cell_type": "code",
   "execution_count": 39,
   "metadata": {},
   "outputs": [
    {
     "data": {
      "text/plain": [
       "<matplotlib.axes._subplots.AxesSubplot at 0x289121b1248>"
      ]
     },
     "execution_count": 39,
     "metadata": {},
     "output_type": "execute_result"
    },
    {
     "data": {
      "image/png": "[encoded data removed]",
      "text/plain": [
       "<Figure size 432x288 with 1 Axes>"
      ]
     },
     "metadata": {
      "needs_background": "light"
     },
     "output_type": "display_data"
    }
   ],
   "source": [
    "sns.boxplot(y= np.log(data.UnitPrice), x = data['Category'])"
   ]
  },
  {
   "cell_type": "markdown",
   "metadata": {},
   "source": [
    "**Analysis**:The bikes and components data are to some extent normally distributed as can be seen from the box plots but components is slightly left-skewed. The Accessories data is heavily skewed and also has many outliers, whereas clothing is negatively skewed."
   ]
  },
  {
   "cell_type": "markdown",
   "metadata": {},
   "source": [
    "Product prices are on a continuous scale. You want to descritize them. User KBinDiscretizer to find boundaries using:\n",
    "- equal bin discretization \n",
    "- equal frequency discretization\n",
    "- kmeans discretization\n",
    "\n",
    "Which one do you think is better?"
   ]
  },
  {
   "cell_type": "code",
   "execution_count": 35,
   "metadata": {},
   "outputs": [
    {
     "name": "stdout",
     "output_type": "stream",
     "text": [
      "Original Data:\n",
      "     UnitPrice\n",
      "0   2039.9940\n",
      "1   2024.9940\n",
      "2    722.5949\n",
      "4    722.5949\n",
      "5    818.7000\n",
      "6    809.7600\n",
      "7   2039.9940\n",
      "8      5.7000\n",
      "9   2024.9940\n",
      "14   183.9382\n",
      "15    28.8404\n",
      "16   419.4589\n",
      "17   419.4589\n",
      "18   419.4589\n",
      "19   874.7940\n",
      "20   419.4589\n",
      "21  2146.9620\n",
      "22   183.9382\n",
      "23     5.1865\n",
      "24   183.9382\n",
      "Bin edges:\n",
      " [array([1.32820000e+00, 4.30454960e+02, 8.59581720e+02, 1.28870848e+03,\n",
      "       1.71783524e+03, 2.14696200e+03])]\n",
      "Descritized Data:\n",
      " [[4.]\n",
      " [4.]\n",
      " [1.]\n",
      " [1.]\n",
      " [1.]\n",
      " [1.]\n",
      " [4.]\n",
      " [0.]\n",
      " [4.]\n",
      " [0.]\n",
      " [0.]\n",
      " [0.]\n",
      " [0.]\n",
      " [0.]\n",
      " [2.]\n",
      " [0.]\n",
      " [4.]\n",
      " [0.]\n",
      " [0.]\n",
      " [0.]]\n"
     ]
    }
   ],
   "source": [
    "#Equal-bin\n",
    "from sklearn.preprocessing import KBinsDiscretizer\n",
    "enc = KBinsDiscretizer(n_bins=5, encode='ordinal', strategy='uniform')\n",
    "X= data.iloc[:,12:13]\n",
    "X_binned = enc.fit_transform(X)\n",
    "\n",
    "print('Original Data:\\n',X.head(20))\n",
    "print('Bin edges:\\n',enc.bin_edges_)\n",
    "print('Descritized Data:\\n', X_binned[0:20,:])\n"
   ]
  },
  {
   "cell_type": "code",
   "execution_count": 36,
   "metadata": {},
   "outputs": [
    {
     "name": "stdout",
     "output_type": "stream",
     "text": [
      "Original Data:\n",
      "     UnitPrice\n",
      "0   2039.9940\n",
      "1   2024.9940\n",
      "2    722.5949\n",
      "4    722.5949\n",
      "5    818.7000\n",
      "6    809.7600\n",
      "7   2039.9940\n",
      "8      5.7000\n",
      "9   2024.9940\n",
      "14   183.9382\n",
      "15    28.8404\n",
      "16   419.4589\n",
      "17   419.4589\n",
      "18   419.4589\n",
      "19   874.7940\n",
      "20   419.4589\n",
      "21  2146.9620\n",
      "22   183.9382\n",
      "23     5.1865\n",
      "24   183.9382\n",
      "Bin edges:\n",
      " [array([1.328200e+00, 2.884040e+01, 7.200000e+01, 3.340575e+02,\n",
      "       7.289100e+02, 2.146962e+03])]\n",
      "Descritized Data:\n",
      " [[4.]\n",
      " [4.]\n",
      " [3.]\n",
      " [3.]\n",
      " [4.]\n",
      " [4.]\n",
      " [4.]\n",
      " [0.]\n",
      " [4.]\n",
      " [2.]\n",
      " [1.]\n",
      " [3.]\n",
      " [3.]\n",
      " [3.]\n",
      " [4.]\n",
      " [3.]\n",
      " [4.]\n",
      " [2.]\n",
      " [0.]\n",
      " [2.]]\n"
     ]
    }
   ],
   "source": [
    "#Equal- Frequesncy\n",
    "from sklearn.preprocessing import KBinsDiscretizer\n",
    "enc = KBinsDiscretizer(n_bins=5, encode='ordinal', strategy='quantile')\n",
    "X= data.iloc[:,12:13]\n",
    "X_binned = enc.fit_transform(X)\n",
    "\n",
    "print('Original Data:\\n',X.head(20))\n",
    "print('Bin edges:\\n',enc.bin_edges_)\n",
    "print('Descritized Data:\\n', X_binned[0:20,:])"
   ]
  },
  {
   "cell_type": "code",
   "execution_count": 37,
   "metadata": {},
   "outputs": [
    {
     "name": "stdout",
     "output_type": "stream",
     "text": [
      "Original Data:\n",
      "     UnitPrice\n",
      "0   2039.9940\n",
      "1   2024.9940\n",
      "2    722.5949\n",
      "4    722.5949\n",
      "5    818.7000\n",
      "6    809.7600\n",
      "7   2039.9940\n",
      "8      5.7000\n",
      "9   2024.9940\n",
      "14   183.9382\n",
      "15    28.8404\n",
      "16   419.4589\n",
      "17   419.4589\n",
      "18   419.4589\n",
      "19   874.7940\n",
      "20   419.4589\n",
      "21  2146.9620\n",
      "22   183.9382\n",
      "23     5.1865\n",
      "24   183.9382\n",
      "Bin edges:\n",
      " [array([1.32820000e+00, 2.47831080e+02, 6.09701293e+02, 1.07743506e+03,\n",
      "       1.71513604e+03, 2.14696200e+03])]\n",
      "Descritized Data:\n",
      " [[4.]\n",
      " [4.]\n",
      " [2.]\n",
      " [2.]\n",
      " [2.]\n",
      " [2.]\n",
      " [4.]\n",
      " [0.]\n",
      " [4.]\n",
      " [0.]\n",
      " [0.]\n",
      " [1.]\n",
      " [1.]\n",
      " [1.]\n",
      " [2.]\n",
      " [1.]\n",
      " [4.]\n",
      " [0.]\n",
      " [0.]\n",
      " [0.]]\n"
     ]
    }
   ],
   "source": [
    "#Kmeans\n",
    "from sklearn.preprocessing import KBinsDiscretizer\n",
    "enc = KBinsDiscretizer(n_bins=5, encode='ordinal', strategy='kmeans')\n",
    "X= data.iloc[:,12:13]\n",
    "X_binned = enc.fit_transform(X)\n",
    "\n",
    "print('Original Data:\\n',X.head(20))\n",
    "print('Bin edges:\\n',enc.bin_edges_)\n",
    "print('Descritized Data:\\n', X_binned[0:20,:])\n"
   ]
  },
  {
   "cell_type": "markdown",
   "metadata": {},
   "source": [
    "**Analysis**: K-means does discretization best as can be seen it divides the data set into most expensive, medium expensive, less expensive and then reasonable priced and cheap categories. \n",
    "When we compare these bins to our dataset's ProductPrices, this categorization of prices works very well as from \\\\$600-2147. lie most of the bikes, and the 3 categorizations can give us a good idea of which are the most expensive bikes and which ones are more reasonable.\n",
    "Then we have a bin from price range \\\\$247-609 which consist of most of the products from components category. \n",
    "And lastly we have the bin with price range \\\\$1.32-247 which consists of cheaper items like clothes and accessories. "
   ]
  },
  {
   "cell_type": "markdown",
   "metadata": {},
   "source": [
    "### Correlation:\n",
    "Study correlation between attributes via:\n",
    "- correlation coefficients\n",
    "- scatter plot matrix\n",
    "- plotting heatmap\n",
    "\n",
    "You can focus on numeric attributes for this."
   ]
  },
  {
   "cell_type": "code",
   "execution_count": 40,
   "metadata": {},
   "outputs": [
    {
     "data": {
      "text/html": [
       "<div>\n",
       "<style scoped>\n",
       "    .dataframe tbody tr th:only-of-type {\n",
       "        vertical-align: middle;\n",
       "    }\n",
       "\n",
       "    .dataframe tbody tr th {\n",
       "        vertical-align: top;\n",
       "    }\n",
       "\n",
       "    .dataframe thead th {\n",
       "        text-align: right;\n",
       "    }\n",
       "</style>\n",
       "<table border=\"1\" class=\"dataframe\">\n",
       "  <thead>\n",
       "    <tr style=\"text-align: right;\">\n",
       "      <th></th>\n",
       "      <th>ListPrice</th>\n",
       "      <th>OrderQuantity</th>\n",
       "      <th>UnitPrice</th>\n",
       "      <th>SalesAmount</th>\n",
       "      <th>DiscountAmount</th>\n",
       "      <th>TaxAmount</th>\n",
       "      <th>Freight</th>\n",
       "    </tr>\n",
       "  </thead>\n",
       "  <tbody>\n",
       "    <tr>\n",
       "      <th>ListPrice</th>\n",
       "      <td>1.000000</td>\n",
       "      <td>-0.229128</td>\n",
       "      <td>0.996780</td>\n",
       "      <td>0.769445</td>\n",
       "      <td>0.111123</td>\n",
       "      <td>0.769445</td>\n",
       "      <td>0.769445</td>\n",
       "    </tr>\n",
       "    <tr>\n",
       "      <th>OrderQuantity</th>\n",
       "      <td>-0.229128</td>\n",
       "      <td>1.000000</td>\n",
       "      <td>-0.230318</td>\n",
       "      <td>0.096628</td>\n",
       "      <td>0.111333</td>\n",
       "      <td>0.096628</td>\n",
       "      <td>0.096628</td>\n",
       "    </tr>\n",
       "    <tr>\n",
       "      <th>UnitPrice</th>\n",
       "      <td>0.996780</td>\n",
       "      <td>-0.230318</td>\n",
       "      <td>1.000000</td>\n",
       "      <td>0.772700</td>\n",
       "      <td>0.048769</td>\n",
       "      <td>0.772700</td>\n",
       "      <td>0.772700</td>\n",
       "    </tr>\n",
       "    <tr>\n",
       "      <th>SalesAmount</th>\n",
       "      <td>0.769445</td>\n",
       "      <td>0.096628</td>\n",
       "      <td>0.772700</td>\n",
       "      <td>1.000000</td>\n",
       "      <td>0.110071</td>\n",
       "      <td>1.000000</td>\n",
       "      <td>1.000000</td>\n",
       "    </tr>\n",
       "    <tr>\n",
       "      <th>DiscountAmount</th>\n",
       "      <td>0.111123</td>\n",
       "      <td>0.111333</td>\n",
       "      <td>0.048769</td>\n",
       "      <td>0.110071</td>\n",
       "      <td>1.000000</td>\n",
       "      <td>0.110071</td>\n",
       "      <td>0.110071</td>\n",
       "    </tr>\n",
       "    <tr>\n",
       "      <th>TaxAmount</th>\n",
       "      <td>0.769445</td>\n",
       "      <td>0.096628</td>\n",
       "      <td>0.772700</td>\n",
       "      <td>1.000000</td>\n",
       "      <td>0.110071</td>\n",
       "      <td>1.000000</td>\n",
       "      <td>1.000000</td>\n",
       "    </tr>\n",
       "    <tr>\n",
       "      <th>Freight</th>\n",
       "      <td>0.769445</td>\n",
       "      <td>0.096628</td>\n",
       "      <td>0.772700</td>\n",
       "      <td>1.000000</td>\n",
       "      <td>0.110071</td>\n",
       "      <td>1.000000</td>\n",
       "      <td>1.000000</td>\n",
       "    </tr>\n",
       "  </tbody>\n",
       "</table>\n",
       "</div>"
      ],
      "text/plain": [
       "                ListPrice  OrderQuantity  UnitPrice  SalesAmount  \\\n",
       "ListPrice        1.000000      -0.229128   0.996780     0.769445   \n",
       "OrderQuantity   -0.229128       1.000000  -0.230318     0.096628   \n",
       "UnitPrice        0.996780      -0.230318   1.000000     0.772700   \n",
       "SalesAmount      0.769445       0.096628   0.772700     1.000000   \n",
       "DiscountAmount   0.111123       0.111333   0.048769     0.110071   \n",
       "TaxAmount        0.769445       0.096628   0.772700     1.000000   \n",
       "Freight          0.769445       0.096628   0.772700     1.000000   \n",
       "\n",
       "                DiscountAmount  TaxAmount   Freight  \n",
       "ListPrice             0.111123   0.769445  0.769445  \n",
       "OrderQuantity         0.111333   0.096628  0.096628  \n",
       "UnitPrice             0.048769   0.772700  0.772700  \n",
       "SalesAmount           0.110071   1.000000  1.000000  \n",
       "DiscountAmount        1.000000   0.110071  0.110071  \n",
       "TaxAmount             0.110071   1.000000  1.000000  \n",
       "Freight               0.110071   1.000000  1.000000  "
      ]
     },
     "execution_count": 40,
     "metadata": {},
     "output_type": "execute_result"
    }
   ],
   "source": [
    "#correlation coefficients\n",
    "df = data.drop('ProcessingDays', 1)\n",
    "df = df.drop('NormalizedPrice', 1)\n",
    "corr_matrix = df.corr()\n",
    "cor_target=corr_matrix\n",
    "cor_target"
   ]
  },
  {
   "cell_type": "code",
   "execution_count": 42,
   "metadata": {},
   "outputs": [
    {
     "data": {
      "text/plain": [
       "<matplotlib.axes._subplots.AxesSubplot at 0x28919116748>"
      ]
     },
     "execution_count": 42,
     "metadata": {},
     "output_type": "execute_result"
    },
    {
     "data": {
      "image/png": "[encoded data removed]",
      "text/plain": [
       "<Figure size 1440x720 with 2 Axes>"
      ]
     },
     "metadata": {
      "needs_background": "light"
     },
     "output_type": "display_data"
    }
   ],
   "source": [
    "#Heatmap\n",
    "df = data.drop('ProcessingDays', 1)\n",
    "df = df.drop('NormalizedPrice', 1)\n",
    "corrmat =df.corr()\n",
    "fig,ax= plt.subplots()\n",
    "fig.set_size_inches(20,10)\n",
    "sns.heatmap(corrmat,square=True,annot=True, fmt='.2f')"
   ]
  },
  {
   "cell_type": "markdown",
   "metadata": {},
   "source": [
    "**Analysis**:<br>\n",
    "List Price and Unit Price are positively correlated. If we analyze our data, we can see that the unit price is always approximately 0.6x the List Price.  \n",
    "Sales amount, tax amount and freight charges are also positively correlated with one another. If we analyze our data, we can see that the tax amount is always 8% of the Sales amount and the freight is 2.5% of the Sales amount.  \n",
    "<br>\n",
    "The sales amount also has a positive corelation with Unit Price and ListPrice as the higher the prices of individual products, the more the total sales amount.\n",
    "<br>\n",
    "Unit Price and Order Quantity have a negative correlation although it is not very strong. The negative correlation would make sense as the higher the price, the lower the quantity of products you would buy."
   ]
  },
  {
   "cell_type": "code",
   "execution_count": null,
   "metadata": {},
   "outputs": [],
   "source": []
  }
 ],
 "metadata": {
  "kernelspec": {
   "display_name": "Python 3 (ipykernel)",
   "language": "python",
   "name": "python3"
  },
  "language_info": {
   "codemirror_mode": {
    "name": "ipython",
    "version": 3
   },
   "file_extension": ".py",
   "mimetype": "text/x-python",
   "name": "python",
   "nbconvert_exporter": "python",
   "pygments_lexer": "ipython3",
   "version": "3.12.3"
  }
 },
 "nbformat": 4,
 "nbformat_minor": 4
}
